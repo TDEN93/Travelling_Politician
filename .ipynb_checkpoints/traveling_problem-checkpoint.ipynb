{
 "cells": [
  {
   "cell_type": "markdown",
   "metadata": {},
   "source": [
    "# Traveling Politician"
   ]
  },
  {
   "cell_type": "markdown",
   "metadata": {},
   "source": [
    "A politician hopes to become the president of the United States. Their campaign starts with the presidential primaries in the capital of Iowa. The politician then wants to visit the capital of every U.S. state to campaign before ending in the White House in the nation's capital of Washington, D.C. The politician does not want to visit any capital more than once. They would like to campaign in every capital one and only once. To be efficient and save on time and money, they would like to do this in as short a path as possible. The Traveling Politician Problem aims to find this shortest path. The map can be thought of as a graph with 51 points (the capitals of all 50 U.S. states, plus Washington, D.C.) and a set of distances between each of them. The starting point and ending point are already set (the capital of Iowa and Washington, D.C., respectively). This leaves 49 points to be visited in between the starting and ending points, this does not include the start and end points.\n",
    "\n",
    "This problem is much harder than it may sound. The main solution to the problem is factorial time-that is, the time it takes to solve will be proportional to 49!. It is not 51! because the starting and ending cities are already set. After starting in Iowa, one of the 49 remaining capitals can be chosen as the first one to travel to. Now that one of the 49 has been chosen as the first, one of the remaining 48 capitals can be chosen as the second to travel to. Now there are 47 remaining capitals to choose as the third, and so on. The total number of paths to be compared will be 49x48x47x ... 3x2x1, which is 49! (49 factorial). This evaluates to around 6*10^62 different total paths to be compared. That's around a trillion trillion trillion trillion trillion.\n",
    "\n",
    "One particular mistake is very easy to make here: why not just find the shortest path from the capital of Iowa to any other one state capital, then take the shortest path from there to any other one state capital, and then keep going until you wind up in D.C.? This could possibly give you a better solution than trillions of trillions of other solutions, but it's unlikely to give you the very best overall path to D.C. For example, let's say we only visit Texas and California in the middle: the distance from Iowa to Texas is shorter than the distance from Iowa to California, so you go to Texas first and then to California and then to D.C. This is around 5,300 miles. It's longer to go to California first than to Texas, but if you visit California first, then Texas, then D.C., you get around 4,900 miles, which is the shorter path. As you can see, finding the shortest distance from one capital to another at any given point is not necessarily going to give you the shortest overall path to visit each capital only once.\n",
    "\n",
    "This problem is based on the \"Traveling Salesman Problem\", which is a well-known graph theory problem that has been heavily studied by mathematicians. Many resources are available to study this problem under the title \"Traveling Salesman Problem\".\n",
    "\n",
    "https://en.wikipedia.org/wiki/Travelling_salesman_problem"
   ]
  },
  {
   "cell_type": "markdown",
   "metadata": {},
   "source": [
    "## Getting Started"
   ]
  },
  {
   "cell_type": "markdown",
   "metadata": {},
   "source": [
    "### Prerequisites"
   ]
  },
  {
   "cell_type": "markdown",
   "metadata": {},
   "source": [
    "The Jupyter Notebook can be viewed in Github but if you wish to run Jupyter Notebook yourself, see the official installation guide [here](https://jupyter.org/install)\n",
    "\n",
    "Package Requirements:\n",
    "- pandas\n",
    "- numpy\n",
    "- geopy\n",
    "- permutations from itertools\n",
    "- maxsize from sys"
   ]
  },
  {
   "cell_type": "markdown",
   "metadata": {},
   "source": [
    "Original solution can be found [here](https://github.com/VinnyDamiano/TravelingPolitician)  \n",
    "Credit: **Vincent Damiano, Verbus Counts, Trent Rogers**\n",
    "\n",
    "*This solution attempts to refactor the original solution above using Pythonic methods and PEP 8 styling*"
   ]
  },
  {
   "cell_type": "code",
   "execution_count": 1,
   "metadata": {},
   "outputs": [],
   "source": [
    "import pandas as pd\n",
    "import numpy as np\n",
    "from matplotlib import pyplot as plt\n",
    "from geopy import distance\n",
    "from itertools import permutations\n",
    "from sys import maxsize"
   ]
  },
  {
   "cell_type": "code",
   "execution_count": 2,
   "metadata": {},
   "outputs": [],
   "source": [
    "state_capitals = pd.read_csv('state_capitals_long_lat.csv', usecols=[\"State\",\"Longitude\", \"Latitude\"])"
   ]
  },
  {
   "cell_type": "code",
   "execution_count": 3,
   "metadata": {},
   "outputs": [],
   "source": [
    "def dist(s1, s2):\n",
    "    first = state_capitals[[\"Latitude\", \"Longitude\"]].loc[state_capitals[\"State\"] == s1]\n",
    "    second = state_capitals[[\"Latitude\", \"Longitude\"]].loc[state_capitals[\"State\"] == s2]\n",
    "    \n",
    "    return distance.distance(first.values, second.values).miles"
   ]
  },
  {
   "cell_type": "code",
   "execution_count": 4,
   "metadata": {},
   "outputs": [],
   "source": [
    "def perm(states):\n",
    "    perms = list(permutations(states[1:-1]))\n",
    "    permdf = pd.DataFrame(perms)\n",
    "    \n",
    "    permdf.columns = [''] * len(permdf.columns)\n",
    "    permdf.insert(0, 'start', states[0])\n",
    "    permdf[\"end\"] = states[-1]\n",
    "    \n",
    "    return permdf"
   ]
  },
  {
   "cell_type": "code",
   "execution_count": 5,
   "metadata": {},
   "outputs": [],
   "source": [
    "start = state_capitals[\"State\"].loc[state_capitals[\"State\"] == \"Iowa\"].tolist()\n",
    "end = [\"D.C\"]\n",
    "middle = list(state_capitals.iloc[:3, 0].tolist())"
   ]
  },
  {
   "cell_type": "code",
   "execution_count": 6,
   "metadata": {},
   "outputs": [],
   "source": [
    "def pathDist(lst):\n",
    "    dt = 0\n",
    "    p = []\n",
    "    for i in lst.values:\n",
    "        for j in range(len(i) - 1):\n",
    "            dt += dist(i[j], i[j+1])\n",
    "            \n",
    "        i = np.append(i, [dt])\n",
    "        p.append(i)\n",
    "        \n",
    "        dt = 0\n",
    "        \n",
    "    final = pd.DataFrame(p)\n",
    "    \n",
    "    return final"
   ]
  },
  {
   "cell_type": "code",
   "execution_count": 10,
   "metadata": {},
   "outputs": [
    {
     "name": "stdout",
     "output_type": "stream",
     "text": [
      "[['Iowa', 'Arkansas', 'Arizona', 'Alaska', 'D.C', 11332.246642445654]]\n"
     ]
    }
   ],
   "source": [
    "result = pathDist(perm(start + middle + end))\n",
    "print(result[(result.iloc[:, -1] == result.iloc[:, -1].min())].values.tolist())"
   ]
  },
  {
   "cell_type": "code",
   "execution_count": 11,
   "metadata": {},
   "outputs": [
    {
     "name": "stdout",
     "output_type": "stream",
     "text": [
      "44.3 ms ± 261 µs per loop (mean ± std. dev. of 7 runs, 10 loops each)\n"
     ]
    }
   ],
   "source": [
    "%%timeit\n",
    "result = pathDist(perm(start + middle + end))"
   ]
  },
  {
   "cell_type": "code",
   "execution_count": null,
   "metadata": {},
   "outputs": [],
   "source": []
  }
 ],
 "metadata": {
  "kernelspec": {
   "display_name": "Python 3",
   "language": "python",
   "name": "python3"
  },
  "language_info": {
   "codemirror_mode": {
    "name": "ipython",
    "version": 3
   },
   "file_extension": ".py",
   "mimetype": "text/x-python",
   "name": "python",
   "nbconvert_exporter": "python",
   "pygments_lexer": "ipython3",
   "version": "3.6.9"
  }
 },
 "nbformat": 4,
 "nbformat_minor": 4
}
